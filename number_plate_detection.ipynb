{
 "cells": [
  {
   "cell_type": "code",
   "execution_count": 1,
   "id": "33a0b263",
   "metadata": {},
   "outputs": [],
   "source": [
    "from PIL.Image import ImageTransformHandler\n",
    "import cv2\n",
    "import numpy as np\n",
    "import pytesseract\n",
    "\n",
    "pytesseract.pytesseract.tesseract_cmd=r\"C:\\Program Files (x86)\\Tesseract-OCR\\tesseract.exe\"\n",
    "\n",
    "cascade= cv2.CascadeClassifier(\"haarcascade_russian_plate_number.xml\")\n",
    "#this cascade file helps us find out the number plate in the image."
   ]
  },
  {
   "cell_type": "code",
   "execution_count": 2,
   "id": "bb0f4989",
   "metadata": {},
   "outputs": [],
   "source": [
    "def extract_num(img_filename):\n",
    "    \"\"\"\n",
    "    This function takes the image as input, does processing on it and \n",
    "    using the cascade file detects the number plate in the image.\n",
    "    When bounding box is extracted it is passed to the pytesseract reader to read the text in the bounding box\n",
    "    and we retrieve the number plate\n",
    "    \"\"\"\n",
    "    img=cv2.imread(img_filename)\n",
    "    #Img To Gray\n",
    "    gray=cv2.cvtColor(img,cv2.COLOR_BGR2GRAY)\n",
    "    nplate=cascade.detectMultiScale(gray,1.1,4)\n",
    "    #crop portion\n",
    "    for (x,y,w,h) in nplate:\n",
    "        wT,hT,cT=img.shape\n",
    "        a,b=(int(0.02*wT),int(0.02*hT))\n",
    "        plate=img[y+a:y+h-a,x+b:x+w-b,:]\n",
    "        #make the img more darker to identify LPR\n",
    "        kernel=np.ones((1,1),np.uint8)\n",
    "        plate=cv2.dilate(plate,kernel,iterations=1)\n",
    "        plate=cv2.erode(plate,kernel,iterations=1)\n",
    "        plate_gray=cv2.cvtColor(plate,cv2.COLOR_BGR2GRAY)\n",
    "        (thresh,plate)=cv2.threshold(plate_gray,127,255,cv2.THRESH_BINARY)\n",
    "        #read the text on the plate\n",
    "        read=pytesseract.image_to_string(plate)\n",
    "        read=''.join(e for e in read if e.isalnum())\n",
    "        stat=read[0:2]\n",
    "        cv2.rectangle(img,(x,y),(x+w,y+h),(51,51,255),2)\n",
    "        cv2.rectangle(img,(x-1,y-40),(x+w+1,y),(51,51,255),-1)\n",
    "        cv2.putText(img,read,(x,y-10),cv2.FONT_HERSHEY_SIMPLEX,0.9,(255,255,255),2)\n",
    "\n",
    "        cv2.imshow(\"plate\",plate)\n",
    "        \n",
    "    cv2.imwrite(\"Result.png\",img)\n",
    "    cv2.imshow(\"Result\",img)\n",
    "    if cv2.waitKey(0)==113:   #Esc key to close the images\n",
    "        exit()\n",
    "    cv2.destroyAllWindows()\n",
    "\n",
    "\n"
   ]
  },
  {
   "cell_type": "code",
   "execution_count": 3,
   "id": "a265ec14",
   "metadata": {},
   "outputs": [],
   "source": [
    "extract_num(\"car_img.png\")  #extract_num function called on car_img.png image. if image is outside the current working folder\n",
    "#give full path of the image.\n",
    "#example - r\"‪C:\\Users\\Hi\\Pictures\\face images\\f1.jpg\"\n",
    "#r is used to reverse the slashes \"\\\" to \"/\"\n"
   ]
  },
  {
   "cell_type": "code",
   "execution_count": null,
   "id": "06e2fdda",
   "metadata": {},
   "outputs": [],
   "source": []
  }
 ],
 "metadata": {
  "kernelspec": {
   "display_name": "Python 3 (ipykernel)",
   "language": "python",
   "name": "python3"
  },
  "language_info": {
   "codemirror_mode": {
    "name": "ipython",
    "version": 3
   },
   "file_extension": ".py",
   "mimetype": "text/x-python",
   "name": "python",
   "nbconvert_exporter": "python",
   "pygments_lexer": "ipython3",
   "version": "3.9.7"
  }
 },
 "nbformat": 4,
 "nbformat_minor": 5
}
